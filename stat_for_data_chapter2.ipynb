{
 "cells": [
  {
   "cell_type": "code",
   "execution_count": 2,
   "source": [
    "import pandas as pd\r\n",
    "import numpy as np\r\n",
    "import seaborn as sns\r\n",
    "from scipy import stats\r\n",
    "from sklearn.utils import resample\r\n",
    "import matplotlib.pyplot as plt\r\n",
    "\r\n",
    "loans_income = pd.read_csv(\"loans_income.csv\")"
   ],
   "outputs": [],
   "metadata": {}
  },
  {
   "cell_type": "code",
   "execution_count": 9,
   "source": [
    "sample_data = pd.DataFrame({\r\n",
    "    'income': loans_income.sample(1000),\r\n",
    "    'type': 'Data',\r\n",
    "})\r\n",
    "sample_mean_05 = pd.DataFrame({\r\n",
    "    'income': [loans_income.sample(5).mean() for _ in range(1000)],\r\n",
    "    'type': 'Mean of 5',\r\n",
    "})\r\n",
    "sample_mean_20 = pd.DataFrame({\r\n",
    "    'income': [loans_income.sample(20).mean() for _ in range(1000)],\r\n",
    "    'type': 'Mean of 20',\r\n",
    "})\r\n",
    "results = pd.concat([sample_data, sample_mean_05, sample_mean_20])\r\n",
    "\r\n",
    "g=sns.FacetGrid(results, col='type', col_wrap=1, height=2, aspect=2)\r\n",
    "g.map(plt.hist, 'income', range=[0, 200000], bins=40)\r\n",
    "g.set_axis_labels('Income', 'Count')\r\n",
    "g.set_titles('{col_name}')"
   ],
   "outputs": [
    {
     "output_type": "error",
     "ename": "ValueError",
     "evalue": "If using all scalar values, you must pass an index",
     "traceback": [
      "\u001b[1;31m---------------------------------------------------------------------------\u001b[0m",
      "\u001b[1;31mValueError\u001b[0m                                Traceback (most recent call last)",
      "\u001b[1;32m<ipython-input-9-a228874cf3e6>\u001b[0m in \u001b[0;36m<module>\u001b[1;34m\u001b[0m\n\u001b[1;32m----> 1\u001b[1;33m sample_data = pd.DataFrame({\n\u001b[0m\u001b[0;32m      2\u001b[0m     \u001b[1;34m'income'\u001b[0m\u001b[1;33m:\u001b[0m \u001b[0mloans_income\u001b[0m\u001b[1;33m.\u001b[0m\u001b[0msample\u001b[0m\u001b[1;33m(\u001b[0m\u001b[1;36m1000\u001b[0m\u001b[1;33m)\u001b[0m\u001b[1;33m,\u001b[0m\u001b[1;33m\u001b[0m\u001b[1;33m\u001b[0m\u001b[0m\n\u001b[0;32m      3\u001b[0m     \u001b[1;34m'type'\u001b[0m\u001b[1;33m:\u001b[0m \u001b[1;34m'Data'\u001b[0m\u001b[1;33m,\u001b[0m\u001b[1;33m\u001b[0m\u001b[1;33m\u001b[0m\u001b[0m\n\u001b[0;32m      4\u001b[0m })\n",
      "\u001b[1;32m~\\anaconda3\\lib\\site-packages\\pandas\\core\\frame.py\u001b[0m in \u001b[0;36m__init__\u001b[1;34m(self, data, index, columns, dtype, copy)\u001b[0m\n\u001b[0;32m    527\u001b[0m \u001b[1;33m\u001b[0m\u001b[0m\n\u001b[0;32m    528\u001b[0m         \u001b[1;32melif\u001b[0m \u001b[0misinstance\u001b[0m\u001b[1;33m(\u001b[0m\u001b[0mdata\u001b[0m\u001b[1;33m,\u001b[0m \u001b[0mdict\u001b[0m\u001b[1;33m)\u001b[0m\u001b[1;33m:\u001b[0m\u001b[1;33m\u001b[0m\u001b[1;33m\u001b[0m\u001b[0m\n\u001b[1;32m--> 529\u001b[1;33m             \u001b[0mmgr\u001b[0m \u001b[1;33m=\u001b[0m \u001b[0minit_dict\u001b[0m\u001b[1;33m(\u001b[0m\u001b[0mdata\u001b[0m\u001b[1;33m,\u001b[0m \u001b[0mindex\u001b[0m\u001b[1;33m,\u001b[0m \u001b[0mcolumns\u001b[0m\u001b[1;33m,\u001b[0m \u001b[0mdtype\u001b[0m\u001b[1;33m=\u001b[0m\u001b[0mdtype\u001b[0m\u001b[1;33m)\u001b[0m\u001b[1;33m\u001b[0m\u001b[1;33m\u001b[0m\u001b[0m\n\u001b[0m\u001b[0;32m    530\u001b[0m         \u001b[1;32melif\u001b[0m \u001b[0misinstance\u001b[0m\u001b[1;33m(\u001b[0m\u001b[0mdata\u001b[0m\u001b[1;33m,\u001b[0m \u001b[0mma\u001b[0m\u001b[1;33m.\u001b[0m\u001b[0mMaskedArray\u001b[0m\u001b[1;33m)\u001b[0m\u001b[1;33m:\u001b[0m\u001b[1;33m\u001b[0m\u001b[1;33m\u001b[0m\u001b[0m\n\u001b[0;32m    531\u001b[0m             \u001b[1;32mimport\u001b[0m \u001b[0mnumpy\u001b[0m\u001b[1;33m.\u001b[0m\u001b[0mma\u001b[0m\u001b[1;33m.\u001b[0m\u001b[0mmrecords\u001b[0m \u001b[1;32mas\u001b[0m \u001b[0mmrecords\u001b[0m\u001b[1;33m\u001b[0m\u001b[1;33m\u001b[0m\u001b[0m\n",
      "\u001b[1;32m~\\anaconda3\\lib\\site-packages\\pandas\\core\\internals\\construction.py\u001b[0m in \u001b[0;36minit_dict\u001b[1;34m(data, index, columns, dtype)\u001b[0m\n\u001b[0;32m    285\u001b[0m             \u001b[0marr\u001b[0m \u001b[1;32mif\u001b[0m \u001b[1;32mnot\u001b[0m \u001b[0mis_datetime64tz_dtype\u001b[0m\u001b[1;33m(\u001b[0m\u001b[0marr\u001b[0m\u001b[1;33m)\u001b[0m \u001b[1;32melse\u001b[0m \u001b[0marr\u001b[0m\u001b[1;33m.\u001b[0m\u001b[0mcopy\u001b[0m\u001b[1;33m(\u001b[0m\u001b[1;33m)\u001b[0m \u001b[1;32mfor\u001b[0m \u001b[0marr\u001b[0m \u001b[1;32min\u001b[0m \u001b[0marrays\u001b[0m\u001b[1;33m\u001b[0m\u001b[1;33m\u001b[0m\u001b[0m\n\u001b[0;32m    286\u001b[0m         ]\n\u001b[1;32m--> 287\u001b[1;33m     \u001b[1;32mreturn\u001b[0m \u001b[0marrays_to_mgr\u001b[0m\u001b[1;33m(\u001b[0m\u001b[0marrays\u001b[0m\u001b[1;33m,\u001b[0m \u001b[0mdata_names\u001b[0m\u001b[1;33m,\u001b[0m \u001b[0mindex\u001b[0m\u001b[1;33m,\u001b[0m \u001b[0mcolumns\u001b[0m\u001b[1;33m,\u001b[0m \u001b[0mdtype\u001b[0m\u001b[1;33m=\u001b[0m\u001b[0mdtype\u001b[0m\u001b[1;33m)\u001b[0m\u001b[1;33m\u001b[0m\u001b[1;33m\u001b[0m\u001b[0m\n\u001b[0m\u001b[0;32m    288\u001b[0m \u001b[1;33m\u001b[0m\u001b[0m\n\u001b[0;32m    289\u001b[0m \u001b[1;33m\u001b[0m\u001b[0m\n",
      "\u001b[1;32m~\\anaconda3\\lib\\site-packages\\pandas\\core\\internals\\construction.py\u001b[0m in \u001b[0;36marrays_to_mgr\u001b[1;34m(arrays, arr_names, index, columns, dtype, verify_integrity)\u001b[0m\n\u001b[0;32m     78\u001b[0m         \u001b[1;31m# figure out the index, if necessary\u001b[0m\u001b[1;33m\u001b[0m\u001b[1;33m\u001b[0m\u001b[1;33m\u001b[0m\u001b[0m\n\u001b[0;32m     79\u001b[0m         \u001b[1;32mif\u001b[0m \u001b[0mindex\u001b[0m \u001b[1;32mis\u001b[0m \u001b[1;32mNone\u001b[0m\u001b[1;33m:\u001b[0m\u001b[1;33m\u001b[0m\u001b[1;33m\u001b[0m\u001b[0m\n\u001b[1;32m---> 80\u001b[1;33m             \u001b[0mindex\u001b[0m \u001b[1;33m=\u001b[0m \u001b[0mextract_index\u001b[0m\u001b[1;33m(\u001b[0m\u001b[0marrays\u001b[0m\u001b[1;33m)\u001b[0m\u001b[1;33m\u001b[0m\u001b[1;33m\u001b[0m\u001b[0m\n\u001b[0m\u001b[0;32m     81\u001b[0m         \u001b[1;32melse\u001b[0m\u001b[1;33m:\u001b[0m\u001b[1;33m\u001b[0m\u001b[1;33m\u001b[0m\u001b[0m\n\u001b[0;32m     82\u001b[0m             \u001b[0mindex\u001b[0m \u001b[1;33m=\u001b[0m \u001b[0mensure_index\u001b[0m\u001b[1;33m(\u001b[0m\u001b[0mindex\u001b[0m\u001b[1;33m)\u001b[0m\u001b[1;33m\u001b[0m\u001b[1;33m\u001b[0m\u001b[0m\n",
      "\u001b[1;32m~\\anaconda3\\lib\\site-packages\\pandas\\core\\internals\\construction.py\u001b[0m in \u001b[0;36mextract_index\u001b[1;34m(data)\u001b[0m\n\u001b[0;32m    389\u001b[0m \u001b[1;33m\u001b[0m\u001b[0m\n\u001b[0;32m    390\u001b[0m         \u001b[1;32mif\u001b[0m \u001b[1;32mnot\u001b[0m \u001b[0mindexes\u001b[0m \u001b[1;32mand\u001b[0m \u001b[1;32mnot\u001b[0m \u001b[0mraw_lengths\u001b[0m\u001b[1;33m:\u001b[0m\u001b[1;33m\u001b[0m\u001b[1;33m\u001b[0m\u001b[0m\n\u001b[1;32m--> 391\u001b[1;33m             \u001b[1;32mraise\u001b[0m \u001b[0mValueError\u001b[0m\u001b[1;33m(\u001b[0m\u001b[1;34m\"If using all scalar values, you must pass an index\"\u001b[0m\u001b[1;33m)\u001b[0m\u001b[1;33m\u001b[0m\u001b[1;33m\u001b[0m\u001b[0m\n\u001b[0m\u001b[0;32m    392\u001b[0m \u001b[1;33m\u001b[0m\u001b[0m\n\u001b[0;32m    393\u001b[0m         \u001b[1;32mif\u001b[0m \u001b[0mhave_series\u001b[0m\u001b[1;33m:\u001b[0m\u001b[1;33m\u001b[0m\u001b[1;33m\u001b[0m\u001b[0m\n",
      "\u001b[1;31mValueError\u001b[0m: If using all scalar values, you must pass an index"
     ]
    }
   ],
   "metadata": {}
  },
  {
   "cell_type": "code",
   "execution_count": 15,
   "source": [
    "results = []\r\n",
    "for nrepeat in range(1000):\r\n",
    "    sample = resample(loans_income)\r\n",
    "    results.append(sample.median())\r\n",
    "results = pd.Series(results)\r\n",
    "print('Bootstrap Statistics:')\r\n",
    "print(f'original: {loans_income.median()}')\r\n",
    "print(f'bias: {results.mean() - loans_income.median()}')\r\n",
    "print(f'std. error: {results.std()}')"
   ],
   "outputs": [
    {
     "output_type": "stream",
     "name": "stdout",
     "text": [
      "Bootstrap Statistics:\n",
      "original: x    62000.0\n",
      "dtype: float64\n",
      "bias: x   -69.354\n",
      "dtype: float64\n",
      "std. error: 213.3479951887316\n"
     ]
    }
   ],
   "metadata": {}
  },
  {
   "cell_type": "code",
   "execution_count": 18,
   "source": [
    "fig, ax = plt.subplots(figsize=(4,4))\r\n",
    "norm_sample = stats.norm.rvs(size=100)\r\n",
    "stats.probplot(norm_sample, plot=ax)"
   ],
   "outputs": [
    {
     "output_type": "execute_result",
     "data": {
      "text/plain": [
       "((array([-2.46203784, -2.12570747, -1.93122778, -1.79044653, -1.67819304,\n",
       "         -1.58381122, -1.50174123, -1.42869743, -1.36256869, -1.30191411,\n",
       "         -1.24570419, -1.19317644, -1.14374949, -1.09696931, -1.05247413,\n",
       "         -1.00997067, -0.96921765, -0.93001393, -0.89218993, -0.85560121,\n",
       "         -0.82012357, -0.78564937, -0.75208458, -0.71934648, -0.68736185,\n",
       "         -0.65606548, -0.62539893, -0.59530962, -0.56574992, -0.53667655,\n",
       "         -0.50804994, -0.47983378, -0.45199463, -0.42450149, -0.39732558,\n",
       "         -0.37044003, -0.34381966, -0.31744076, -0.29128096, -0.26531902,\n",
       "         -0.23953472, -0.21390872, -0.18842244, -0.16305799, -0.13779803,\n",
       "         -0.1126257 , -0.08752455, -0.06247843, -0.03747145, -0.01248789,\n",
       "          0.01248789,  0.03747145,  0.06247843,  0.08752455,  0.1126257 ,\n",
       "          0.13779803,  0.16305799,  0.18842244,  0.21390872,  0.23953472,\n",
       "          0.26531902,  0.29128096,  0.31744076,  0.34381966,  0.37044003,\n",
       "          0.39732558,  0.42450149,  0.45199463,  0.47983378,  0.50804994,\n",
       "          0.53667655,  0.56574992,  0.59530962,  0.62539893,  0.65606548,\n",
       "          0.68736185,  0.71934648,  0.75208458,  0.78564937,  0.82012357,\n",
       "          0.85560121,  0.89218993,  0.93001393,  0.96921765,  1.00997067,\n",
       "          1.05247413,  1.09696931,  1.14374949,  1.19317644,  1.24570419,\n",
       "          1.30191411,  1.36256869,  1.42869743,  1.50174123,  1.58381122,\n",
       "          1.67819304,  1.79044653,  1.93122778,  2.12570747,  2.46203784]),\n",
       "  array([-2.32926936, -2.10079773, -2.03630369, -1.53871159, -1.47220326,\n",
       "         -1.45122121, -1.38876942, -1.29635422, -0.99455442, -0.88247963,\n",
       "         -0.86035162, -0.82423653, -0.81684636, -0.78583923, -0.71232153,\n",
       "         -0.67848894, -0.6557347 , -0.6289226 , -0.61928151, -0.58656918,\n",
       "         -0.56043404, -0.45038599, -0.43984718, -0.43268097, -0.39207247,\n",
       "         -0.31383899, -0.3005394 , -0.28052896, -0.25970097, -0.22675377,\n",
       "         -0.13924548, -0.12985635, -0.12914781, -0.09912407, -0.086527  ,\n",
       "         -0.07646022, -0.01817088, -0.01338932,  0.0227308 ,  0.03678866,\n",
       "          0.06119464,  0.12310024,  0.18700603,  0.2043491 ,  0.22490713,\n",
       "          0.24205888,  0.25236258,  0.29687968,  0.30670839,  0.33626574,\n",
       "          0.33800182,  0.34228324,  0.40591035,  0.44302379,  0.4742661 ,\n",
       "          0.4973284 ,  0.53959532,  0.54785518,  0.55364194,  0.59653215,\n",
       "          0.61832428,  0.62357425,  0.65135983,  0.66370497,  0.71003882,\n",
       "          0.7285865 ,  0.74684315,  0.78096334,  0.79258553,  0.7956458 ,\n",
       "          0.84400207,  0.84976769,  0.86564825,  0.88448226,  0.9362366 ,\n",
       "          0.97199815,  0.98328204,  0.98437295,  0.98507059,  0.9988372 ,\n",
       "          1.02259206,  1.04970397,  1.05819346,  1.15799939,  1.16803848,\n",
       "          1.20296901,  1.26249805,  1.27174505,  1.27444014,  1.32337835,\n",
       "          1.38312939,  1.49230368,  1.58458696,  1.62719404,  1.6537907 ,\n",
       "          1.65874834,  1.68636131,  1.75343989,  1.76773684,  2.07740195])),\n",
       " (0.9334643263608036, 0.2491640492230761, 0.9901066250925592))"
      ]
     },
     "metadata": {},
     "execution_count": 18
    },
    {
     "output_type": "display_data",
     "data": {
      "image/png": "[encoded data removed]",
      "text/plain": [
       "<Figure size 288x288 with 1 Axes>"
      ]
     },
     "metadata": {
      "needs_background": "light"
     }
    }
   ],
   "metadata": {}
  },
  {
   "cell_type": "code",
   "execution_count": 19,
   "source": [
    "sp500_px = pd.read_csv(\"sp500_data.csv\")"
   ],
   "outputs": [],
   "metadata": {}
  },
  {
   "cell_type": "code",
   "execution_count": 20,
   "source": [
    "nflx = sp500_px.NFLX\r\n",
    "nflx = np.diff(np.log(nflx[nflx>0]))\r\n",
    "fig, ax = plt.subplots(figsize=(4,4))\r\n",
    "stats.probplot(nflx, plot=ax)"
   ],
   "outputs": [
    {
     "output_type": "execute_result",
     "data": {
      "text/plain": [
       "((array([-3.33278964, -3.07756454, -2.93575124, ...,  2.93575124,\n",
       "          3.07756454,  3.33278964]),\n",
       "  array([-6.60529819, -6.09667121, -5.40220961, ...,  5.12547859,\n",
       "          5.87072271,  6.03787   ])),\n",
       " (1.4823778663727099, 0.0015561067366313861, 0.9941828221936326))"
      ]
     },
     "metadata": {},
     "execution_count": 20
    },
    {
     "output_type": "display_data",
     "data": {
      "image/png": "[encoded data removed]",
      "text/plain": [
       "<Figure size 288x288 with 1 Axes>"
      ]
     },
     "metadata": {
      "needs_background": "light"
     }
    }
   ],
   "metadata": {}
  },
  {
   "cell_type": "code",
   "execution_count": 21,
   "source": [
    "stats.binom.pmf(2, n=5, p=0.1)\r\n",
    "stats.binom.cdf(2, n=5, p=0.1)"
   ],
   "outputs": [
    {
     "output_type": "execute_result",
     "data": {
      "text/plain": [
       "0.99144"
      ]
     },
     "metadata": {},
     "execution_count": 21
    }
   ],
   "metadata": {}
  },
  {
   "cell_type": "code",
   "execution_count": 3,
   "source": [
    "stats.poisson.rvs(2, size=100)"
   ],
   "outputs": [
    {
     "output_type": "execute_result",
     "data": {
      "text/plain": [
       "array([3, 3, 0, 4, 4, 3, 0, 3, 1, 3, 3, 2, 2, 1, 2, 1, 5, 2, 1, 2, 3, 2,\n",
       "       4, 3, 2, 1, 0, 0, 1, 1, 3, 1, 2, 3, 1, 2, 2, 2, 1, 0, 3, 2, 3, 4,\n",
       "       0, 5, 2, 3, 3, 5, 2, 1, 0, 4, 2, 1, 5, 3, 1, 1, 1, 0, 4, 1, 1, 3,\n",
       "       1, 1, 1, 2, 3, 5, 1, 3, 2, 1, 2, 2, 2, 0, 2, 2, 0, 1, 1, 0, 1, 2,\n",
       "       2, 2, 1, 1, 3, 4, 2, 2, 2, 2, 0, 2])"
      ]
     },
     "metadata": {},
     "execution_count": 3
    }
   ],
   "metadata": {}
  },
  {
   "cell_type": "code",
   "execution_count": 4,
   "source": [
    "stats.expon.rvs(scale=1/0.2, size=100)\r\n",
    "stats.expon.rvs(scale=5, size=100)"
   ],
   "outputs": [
    {
     "output_type": "execute_result",
     "data": {
      "text/plain": [
       "array([ 1.75584434, 11.52083716,  2.23553612,  1.02208663,  1.95862063,\n",
       "        2.10859824,  4.146821  ,  0.35324221,  1.16207471,  0.25954886,\n",
       "        2.91611491,  2.07949542,  1.87702681,  2.5965006 , 14.3148159 ,\n",
       "        0.67788935,  0.38273026,  7.22249249, 16.21177669,  0.81162902,\n",
       "        3.75952355,  0.36829011, 17.29113718,  6.59434686,  1.5911424 ,\n",
       "        4.46242324,  0.27985255, 10.58145544,  1.15370399,  6.62120159,\n",
       "        0.56326484,  3.84665446,  7.23869985,  2.56810873,  0.13031931,\n",
       "        3.20966885,  1.03558863,  2.09816685,  3.2236499 ,  0.52287669,\n",
       "       11.94439821,  6.07280032,  2.05026807,  2.66022713,  3.54286725,\n",
       "       11.01976676,  1.81925897,  0.43794123,  7.28381697,  0.02774992,\n",
       "        1.12729362, 15.39737259,  5.72015321,  8.95792479,  9.85236464,\n",
       "       15.61225888,  3.79976983,  1.38785251,  1.42020496,  0.10527447,\n",
       "        9.53539744,  8.85310834,  0.8024535 ,  4.12127176,  6.59204104,\n",
       "        3.92293019,  1.85513405,  2.30274275,  3.35732521, 18.85557243,\n",
       "        0.48986893, 16.34117269,  1.68478466,  5.90542293,  4.18207183,\n",
       "        0.72325007, 11.96065372,  9.15529514, 11.00441831,  2.89675897,\n",
       "        3.90362631,  2.6391458 ,  0.03739186,  1.34953471,  1.63786199,\n",
       "        1.5438538 ,  0.75147262,  1.48380903,  3.34368003,  1.76457987,\n",
       "        3.53298105,  0.64904057,  2.35043091,  7.58062838,  1.18486747,\n",
       "        4.71352222,  2.0128289 ,  3.64582714,  6.1951529 ,  2.06035615])"
      ]
     },
     "metadata": {},
     "execution_count": 4
    }
   ],
   "metadata": {}
  },
  {
   "cell_type": "code",
   "execution_count": 5,
   "source": [
    "stats.weibull_min.rvs(1.5, scale=5000, size=100)"
   ],
   "outputs": [
    {
     "output_type": "execute_result",
     "data": {
      "text/plain": [
       "array([9.43721264e+03, 4.93869843e+03, 1.28312728e+03, 1.07344406e+03,\n",
       "       4.41839359e+03, 6.96020055e+03, 8.18368027e+02, 3.12964421e+03,\n",
       "       4.04642219e+03, 2.36900034e+03, 2.52116889e+03, 1.60681374e+03,\n",
       "       6.46392984e+03, 2.16277086e+03, 5.64628842e+03, 7.98649958e+03,\n",
       "       2.13892415e+03, 1.92244706e+03, 5.28086162e+03, 1.00437392e+03,\n",
       "       1.68452600e+04, 6.12454341e+03, 3.60518192e+03, 2.80263786e+03,\n",
       "       1.68496438e+03, 1.89011694e+03, 8.33561041e+03, 5.25400009e+03,\n",
       "       6.30751758e+03, 2.40980938e+03, 5.51848598e+03, 4.85846846e+03,\n",
       "       9.73294311e+03, 1.71862037e+03, 4.13854963e+03, 1.82403461e+03,\n",
       "       2.09177808e+03, 6.30549994e+03, 5.37269949e+03, 2.78778346e+03,\n",
       "       1.77900967e+03, 1.82381316e+03, 1.71372875e+03, 1.25108691e+04,\n",
       "       2.66572865e+03, 3.20386198e+03, 3.90689174e+03, 8.14337642e+03,\n",
       "       3.69720683e+03, 2.28631651e+03, 7.42490525e+03, 6.50984152e+03,\n",
       "       1.37249226e+03, 3.93156270e+03, 1.25201837e+04, 6.50101315e+03,\n",
       "       4.71148170e+03, 1.29979488e+04, 6.27468715e+03, 5.43930479e+02,\n",
       "       5.48815283e+03, 7.12408433e+03, 7.48765131e+03, 3.14195039e+03,\n",
       "       2.49829094e+03, 1.00003119e+04, 2.83465126e+03, 1.02500422e+02,\n",
       "       2.79266215e+03, 9.50167713e+02, 1.89107893e+03, 2.92492068e+03,\n",
       "       3.51595223e+03, 4.53803400e+03, 2.60473551e+03, 6.74104989e+00,\n",
       "       7.07595160e+03, 7.86830478e+03, 1.83014356e+03, 2.09704757e+03,\n",
       "       2.03724964e+03, 5.20431839e+03, 5.44739122e+03, 1.19470560e+04,\n",
       "       1.94711975e+03, 6.21519724e+03, 3.55843745e+03, 3.21493345e+03,\n",
       "       5.37294914e+03, 1.55371228e+03, 5.87684202e+03, 2.32904295e+03,\n",
       "       1.48058081e+03, 3.91822439e+03, 6.06831611e+03, 6.03882036e+03,\n",
       "       7.97362145e+03, 1.22382151e+04, 4.65227305e+03, 5.75880971e+03])"
      ]
     },
     "metadata": {},
     "execution_count": 5
    }
   ],
   "metadata": {}
  },
  {
   "cell_type": "code",
   "execution_count": null,
   "source": [],
   "outputs": [],
   "metadata": {}
  }
 ],
 "metadata": {
  "orig_nbformat": 4,
  "language_info": {
   "name": "python",
   "version": "3.8.8",
   "mimetype": "text/x-python",
   "codemirror_mode": {
    "name": "ipython",
    "version": 3
   },
   "pygments_lexer": "ipython3",
   "nbconvert_exporter": "python",
   "file_extension": ".py"
  },
  "kernelspec": {
   "name": "python3",
   "display_name": "Python 3.8.8 64-bit ('base': conda)"
  },
  "interpreter": {
   "hash": "434835fb47923d785d9a1e02abad025eed4dcaac8d8433fb46e303aedfa36487"
  }
 },
 "nbformat": 4,
 "nbformat_minor": 2
}